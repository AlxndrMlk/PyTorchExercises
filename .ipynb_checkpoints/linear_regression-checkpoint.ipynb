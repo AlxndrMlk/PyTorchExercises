{
 "cells": [
  {
   "cell_type": "code",
   "execution_count": 86,
   "metadata": {},
   "outputs": [],
   "source": [
    "import numpy as np\n",
    "import torch\n",
    "from torch.autograd import Variable\n",
    "\n",
    "import matplotlib.pyplot as plt\n",
    "plt.style.use('fivethirtyeight')"
   ]
  },
  {
   "cell_type": "markdown",
   "metadata": {},
   "source": [
    "# Linear regression in PyTorch"
   ]
  },
  {
   "cell_type": "code",
   "execution_count": 87,
   "metadata": {},
   "outputs": [],
   "source": [
    "# Toy data\n",
    "X = Variable(torch.Tensor([[1, 2],\n",
    "                           [3, 4],\n",
    "                           [5, 6], \n",
    "                           [1, 3],\n",
    "                           [7, 14]]))\n",
    "\n",
    "y = Variable(torch.Tensor([[6],         # y = 2*x_1 + 2*x_2\n",
    "                           [14], \n",
    "                           [22], \n",
    "                           [8], \n",
    "                           [42]]))     \n",
    "\n",
    "# Toy test data\n",
    "X_test = Variable(torch.Tensor([[4, 9],\n",
    "                                [5, 12]]))\n",
    "\n",
    "y_test = Variable(torch.Tensor([[26],\n",
    "                                [34]]))"
   ]
  },
  {
   "cell_type": "code",
   "execution_count": 88,
   "metadata": {},
   "outputs": [],
   "source": [
    "# Define the model class\n",
    "\n",
    "class Model(torch.nn.Module):\n",
    "    \n",
    "    def __init__(self):\n",
    "        super(Model, self).__init__()\n",
    "        self.linear = torch.nn.Linear(2, 1) # Input and output size\n",
    "        \n",
    "    def forward(self, x):\n",
    "        \"\"\"\n",
    "        Takes Variable as an input \n",
    "        Returns Variable\n",
    "        \"\"\"\n",
    "        return self.linear(x)               # Return prediction (y_hat)\n",
    "        "
   ]
  },
  {
   "cell_type": "code",
   "execution_count": 102,
   "metadata": {},
   "outputs": [],
   "source": [
    "# Instantiate the model\n",
    "torch_reg = Model()"
   ]
  },
  {
   "cell_type": "code",
   "execution_count": 103,
   "metadata": {},
   "outputs": [],
   "source": [
    "# Define loss and optimizer\n",
    "loss_func = torch.nn.MSELoss(reduction='mean')\n",
    "optimizer = torch.optim.SGD(torch_reg.parameters(), lr = .0141)"
   ]
  },
  {
   "cell_type": "code",
   "execution_count": 104,
   "metadata": {},
   "outputs": [],
   "source": [
    "# Define training function\n",
    "def train_it(x, y, model, n_epochs = 500):\n",
    "    \n",
    "    for epoch in range(n_epochs):\n",
    "        y_pred = model(x)\n",
    "\n",
    "        loss = loss_func(y_pred, y)\n",
    "        \n",
    "        history.append(loss)\n",
    "        \n",
    "        if epoch % 50 == 0:\n",
    "            print(f\"Epoch: {epoch:06.2f} | Loss: {loss:10.6f}\")\n",
    "\n",
    "        # Reset gradients, perform backprop, perform optimizer step\n",
    "        optimizer.zero_grad()\n",
    "        loss.backward()\n",
    "        optimizer.step()"
   ]
  },
  {
   "cell_type": "code",
   "execution_count": 105,
   "metadata": {},
   "outputs": [],
   "source": [
    "# Capture loss history\n",
    "history = []"
   ]
  },
  {
   "cell_type": "code",
   "execution_count": 106,
   "metadata": {},
   "outputs": [
    {
     "name": "stdout",
     "output_type": "stream",
     "text": [
      "Epoch: 000.00 | Loss: 257.957458\n",
      "Epoch: 050.00 | Loss:   1.769195\n",
      "Epoch: 100.00 | Loss:   0.039208\n",
      "Epoch: 150.00 | Loss:   0.011885\n",
      "Epoch: 200.00 | Loss:   0.005024\n",
      "Epoch: 250.00 | Loss:   0.002142\n",
      "Epoch: 300.00 | Loss:   0.000914\n",
      "Epoch: 350.00 | Loss:   0.000390\n",
      "Epoch: 400.00 | Loss:   0.000166\n",
      "Epoch: 450.00 | Loss:   0.000071\n",
      "Epoch: 500.00 | Loss:   0.000030\n",
      "Epoch: 550.00 | Loss:   0.000013\n",
      "Epoch: 600.00 | Loss:   0.000006\n",
      "Epoch: 650.00 | Loss:   0.000002\n",
      "Epoch: 700.00 | Loss:   0.000001\n",
      "Epoch: 750.00 | Loss:   0.000000\n",
      "Epoch: 800.00 | Loss:   0.000000\n"
     ]
    }
   ],
   "source": [
    "train_it(X, y, torch_reg, n_epochs = 801)"
   ]
  },
  {
   "cell_type": "code",
   "execution_count": 107,
   "metadata": {},
   "outputs": [],
   "source": [
    "# Predict\n",
    "y_pred = torch_reg(X_test)"
   ]
  },
  {
   "cell_type": "code",
   "execution_count": 108,
   "metadata": {},
   "outputs": [
    {
     "data": {
      "text/plain": [
       "tensor(3.7580e-08, grad_fn=<MseLossBackward>)"
      ]
     },
     "execution_count": 108,
     "metadata": {},
     "output_type": "execute_result"
    }
   ],
   "source": [
    "# Compute loss of test\n",
    "loss_func(y_pred, y_test)"
   ]
  },
  {
   "cell_type": "code",
   "execution_count": 109,
   "metadata": {},
   "outputs": [
    {
     "data": {
      "text/plain": [
       "tensor([[26.0002],\n",
       "        [34.0001]], grad_fn=<AddmmBackward>)"
      ]
     },
     "execution_count": 109,
     "metadata": {},
     "output_type": "execute_result"
    }
   ],
   "source": [
    "# Examine predictions\n",
    "y_pred"
   ]
  },
  {
   "cell_type": "code",
   "execution_count": 110,
   "metadata": {},
   "outputs": [],
   "source": [
    "# Nice :)"
   ]
  },
  {
   "cell_type": "code",
   "execution_count": 112,
   "metadata": {},
   "outputs": [
    {
     "data": {
      "image/png": "[encoded data removed]",
      "text/plain": [
       "<Figure size 432x288 with 1 Axes>"
      ]
     },
     "metadata": {},
     "output_type": "display_data"
    }
   ],
   "source": [
    "# Plot loss\n",
    "plt.plot(history, alpha=.5)\n",
    "plt.xlabel('Epoch')\n",
    "plt.ylabel('Loss')\n",
    "plt.title('Training loss vs # of epoch')\n",
    "plt.show()"
   ]
  }
 ],
 "metadata": {
  "kernelspec": {
   "display_name": "Python 3",
   "language": "python",
   "name": "python3"
  },
  "language_info": {
   "codemirror_mode": {
    "name": "ipython",
    "version": 3
   },
   "file_extension": ".py",
   "mimetype": "text/x-python",
   "name": "python",
   "nbconvert_exporter": "python",
   "pygments_lexer": "ipython3",
   "version": "3.6.5"
  }
 },
 "nbformat": 4,
 "nbformat_minor": 2
}
