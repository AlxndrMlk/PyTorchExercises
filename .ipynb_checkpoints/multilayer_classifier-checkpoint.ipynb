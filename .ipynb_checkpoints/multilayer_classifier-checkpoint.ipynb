{
 "cells": [
  {
   "cell_type": "code",
   "execution_count": 1,
   "metadata": {},
   "outputs": [],
   "source": [
    "import pandas as pd\n",
    "import numpy as np\n",
    "\n",
    "import torch\n",
    "from torch.autograd import Variable\n",
    "\n",
    "from sklearn.model_selection import train_test_split\n",
    "\n",
    "import matplotlib.pyplot as plt\n",
    "plt.style.use('fivethirtyeight')"
   ]
  },
  {
   "cell_type": "markdown",
   "metadata": {},
   "source": [
    "# Multilayer classifier in PyTorch"
   ]
  },
  {
   "cell_type": "markdown",
   "metadata": {},
   "source": [
    "* ## Load the data"
   ]
  },
  {
   "cell_type": "code",
   "execution_count": 2,
   "metadata": {},
   "outputs": [],
   "source": [
    "# Define dataset location\n",
    "url = r'https://gist.githubusercontent.com/ktisha/c21e73a1bd1700294ef790c56c8aec1f/raw/819b69b5736821ccee93d05b51de0510bea00294/pima-indians-diabetes.csv'"
   ]
  },
  {
   "cell_type": "code",
   "execution_count": 3,
   "metadata": {},
   "outputs": [],
   "source": [
    "# 1. Number of times pregnant\n",
    "# 2. Plasma glucose concentration a 2 hours in an oral glucose tolerance test\n",
    "# 3. Diastolic blood pressure (mm Hg)\n",
    "# 4. Triceps skin fold thickness (mm)\n",
    "# 5. 2-Hour serum insulin (mu U/ml)\n",
    "# 6. Body mass index (weight in kg/(height in m)^2)\n",
    "# 7. Diabetes pedigree function\n",
    "# 8. Age (years)\n",
    "# 9. Class variable (0 or 1)\n",
    "\n",
    "colnames = ['times_preg', \n",
    "            'glucose_concent', \n",
    "            'blood_press', \n",
    "            'fold_thick',\n",
    "            'insulin',\n",
    "            'bmi',\n",
    "            'pedigree_func',\n",
    "            'age',\n",
    "            'target']"
   ]
  },
  {
   "cell_type": "code",
   "execution_count": 4,
   "metadata": {},
   "outputs": [],
   "source": [
    "# Read-in the data\n",
    "data = pd.read_csv(url, \n",
    "                   comment = '#', \n",
    "                   header  = None,\n",
    "                   names   = colnames)"
   ]
  },
  {
   "cell_type": "markdown",
   "metadata": {},
   "source": [
    "* ## Examine the data"
   ]
  },
  {
   "cell_type": "code",
   "execution_count": 5,
   "metadata": {},
   "outputs": [
    {
     "name": "stdout",
     "output_type": "stream",
     "text": [
      "<class 'pandas.core.frame.DataFrame'>\n",
      "RangeIndex: 768 entries, 0 to 767\n",
      "Data columns (total 9 columns):\n",
      "times_preg         768 non-null int64\n",
      "glucose_concent    768 non-null int64\n",
      "blood_press        768 non-null int64\n",
      "fold_thick         768 non-null int64\n",
      "insulin            768 non-null int64\n",
      "bmi                768 non-null float64\n",
      "pedigree_func      768 non-null float64\n",
      "age                768 non-null int64\n",
      "target             768 non-null int64\n",
      "dtypes: float64(2), int64(7)\n",
      "memory usage: 54.1 KB\n"
     ]
    }
   ],
   "source": [
    "# Check the data\n",
    "data.info()"
   ]
  },
  {
   "cell_type": "code",
   "execution_count": 6,
   "metadata": {},
   "outputs": [
    {
     "data": {
      "text/html": [
       "<div>\n",
       "<style scoped>\n",
       "    .dataframe tbody tr th:only-of-type {\n",
       "        vertical-align: middle;\n",
       "    }\n",
       "\n",
       "    .dataframe tbody tr th {\n",
       "        vertical-align: top;\n",
       "    }\n",
       "\n",
       "    .dataframe thead th {\n",
       "        text-align: right;\n",
       "    }\n",
       "</style>\n",
       "<table border=\"1\" class=\"dataframe\">\n",
       "  <thead>\n",
       "    <tr style=\"text-align: right;\">\n",
       "      <th></th>\n",
       "      <th>count</th>\n",
       "      <th>mean</th>\n",
       "      <th>std</th>\n",
       "      <th>min</th>\n",
       "      <th>25%</th>\n",
       "      <th>50%</th>\n",
       "      <th>75%</th>\n",
       "      <th>max</th>\n",
       "    </tr>\n",
       "  </thead>\n",
       "  <tbody>\n",
       "    <tr>\n",
       "      <th>times_preg</th>\n",
       "      <td>768.0</td>\n",
       "      <td>3.845052</td>\n",
       "      <td>3.369578</td>\n",
       "      <td>0.000</td>\n",
       "      <td>1.00000</td>\n",
       "      <td>3.0000</td>\n",
       "      <td>6.00000</td>\n",
       "      <td>17.00</td>\n",
       "    </tr>\n",
       "    <tr>\n",
       "      <th>glucose_concent</th>\n",
       "      <td>768.0</td>\n",
       "      <td>120.894531</td>\n",
       "      <td>31.972618</td>\n",
       "      <td>0.000</td>\n",
       "      <td>99.00000</td>\n",
       "      <td>117.0000</td>\n",
       "      <td>140.25000</td>\n",
       "      <td>199.00</td>\n",
       "    </tr>\n",
       "    <tr>\n",
       "      <th>blood_press</th>\n",
       "      <td>768.0</td>\n",
       "      <td>69.105469</td>\n",
       "      <td>19.355807</td>\n",
       "      <td>0.000</td>\n",
       "      <td>62.00000</td>\n",
       "      <td>72.0000</td>\n",
       "      <td>80.00000</td>\n",
       "      <td>122.00</td>\n",
       "    </tr>\n",
       "    <tr>\n",
       "      <th>fold_thick</th>\n",
       "      <td>768.0</td>\n",
       "      <td>20.536458</td>\n",
       "      <td>15.952218</td>\n",
       "      <td>0.000</td>\n",
       "      <td>0.00000</td>\n",
       "      <td>23.0000</td>\n",
       "      <td>32.00000</td>\n",
       "      <td>99.00</td>\n",
       "    </tr>\n",
       "    <tr>\n",
       "      <th>insulin</th>\n",
       "      <td>768.0</td>\n",
       "      <td>79.799479</td>\n",
       "      <td>115.244002</td>\n",
       "      <td>0.000</td>\n",
       "      <td>0.00000</td>\n",
       "      <td>30.5000</td>\n",
       "      <td>127.25000</td>\n",
       "      <td>846.00</td>\n",
       "    </tr>\n",
       "    <tr>\n",
       "      <th>bmi</th>\n",
       "      <td>768.0</td>\n",
       "      <td>31.992578</td>\n",
       "      <td>7.884160</td>\n",
       "      <td>0.000</td>\n",
       "      <td>27.30000</td>\n",
       "      <td>32.0000</td>\n",
       "      <td>36.60000</td>\n",
       "      <td>67.10</td>\n",
       "    </tr>\n",
       "    <tr>\n",
       "      <th>pedigree_func</th>\n",
       "      <td>768.0</td>\n",
       "      <td>0.471876</td>\n",
       "      <td>0.331329</td>\n",
       "      <td>0.078</td>\n",
       "      <td>0.24375</td>\n",
       "      <td>0.3725</td>\n",
       "      <td>0.62625</td>\n",
       "      <td>2.42</td>\n",
       "    </tr>\n",
       "    <tr>\n",
       "      <th>age</th>\n",
       "      <td>768.0</td>\n",
       "      <td>33.240885</td>\n",
       "      <td>11.760232</td>\n",
       "      <td>21.000</td>\n",
       "      <td>24.00000</td>\n",
       "      <td>29.0000</td>\n",
       "      <td>41.00000</td>\n",
       "      <td>81.00</td>\n",
       "    </tr>\n",
       "    <tr>\n",
       "      <th>target</th>\n",
       "      <td>768.0</td>\n",
       "      <td>0.348958</td>\n",
       "      <td>0.476951</td>\n",
       "      <td>0.000</td>\n",
       "      <td>0.00000</td>\n",
       "      <td>0.0000</td>\n",
       "      <td>1.00000</td>\n",
       "      <td>1.00</td>\n",
       "    </tr>\n",
       "  </tbody>\n",
       "</table>\n",
       "</div>"
      ],
      "text/plain": [
       "                 count        mean         std     min       25%       50%  \\\n",
       "times_preg       768.0    3.845052    3.369578   0.000   1.00000    3.0000   \n",
       "glucose_concent  768.0  120.894531   31.972618   0.000  99.00000  117.0000   \n",
       "blood_press      768.0   69.105469   19.355807   0.000  62.00000   72.0000   \n",
       "fold_thick       768.0   20.536458   15.952218   0.000   0.00000   23.0000   \n",
       "insulin          768.0   79.799479  115.244002   0.000   0.00000   30.5000   \n",
       "bmi              768.0   31.992578    7.884160   0.000  27.30000   32.0000   \n",
       "pedigree_func    768.0    0.471876    0.331329   0.078   0.24375    0.3725   \n",
       "age              768.0   33.240885   11.760232  21.000  24.00000   29.0000   \n",
       "target           768.0    0.348958    0.476951   0.000   0.00000    0.0000   \n",
       "\n",
       "                       75%     max  \n",
       "times_preg         6.00000   17.00  \n",
       "glucose_concent  140.25000  199.00  \n",
       "blood_press       80.00000  122.00  \n",
       "fold_thick        32.00000   99.00  \n",
       "insulin          127.25000  846.00  \n",
       "bmi               36.60000   67.10  \n",
       "pedigree_func      0.62625    2.42  \n",
       "age               41.00000   81.00  \n",
       "target             1.00000    1.00  "
      ]
     },
     "execution_count": 6,
     "metadata": {},
     "output_type": "execute_result"
    }
   ],
   "source": [
    "data.describe().T"
   ]
  },
  {
   "cell_type": "code",
   "execution_count": 7,
   "metadata": {},
   "outputs": [
    {
     "data": {
      "text/plain": [
       "(375, 9)"
      ]
     },
     "execution_count": 7,
     "metadata": {},
     "output_type": "execute_result"
    }
   ],
   "source": [
    "# Hmmm... BMI / blood pressure / insulin shouldn't be == 0\n",
    "data[(data.bmi == 0) | \n",
    "     (data.blood_press == 0) | \n",
    "     (data.insulin == 0)].shape"
   ]
  },
  {
   "cell_type": "markdown",
   "metadata": {},
   "source": [
    "* ## Replace missing values\n",
    "\n",
    "Please note, that missing values treatment here is rather simple and not really consistent (e.g. glucose_concent should probably be treated similarly to BMI etc). The goal of this notebook is to demonstrate how to bulid a multilayer model in PyTorch, and therefore other tasks (like data preprocessing) may have 'demo quality' here."
   ]
  },
  {
   "cell_type": "code",
   "execution_count": 8,
   "metadata": {},
   "outputs": [],
   "source": [
    "# We'll assume that BMI / blood press / insulin values == 0 means that vals are missing\n",
    "# Create missing indicator variables\n",
    "data['missing_bmi'] = 0\n",
    "data['missing_blood_press'] = 0\n",
    "data['missing_insulin'] = 0"
   ]
  },
  {
   "cell_type": "code",
   "execution_count": 9,
   "metadata": {},
   "outputs": [
    {
     "data": {
      "text/html": [
       "<div>\n",
       "<style scoped>\n",
       "    .dataframe tbody tr th:only-of-type {\n",
       "        vertical-align: middle;\n",
       "    }\n",
       "\n",
       "    .dataframe tbody tr th {\n",
       "        vertical-align: top;\n",
       "    }\n",
       "\n",
       "    .dataframe thead th {\n",
       "        text-align: right;\n",
       "    }\n",
       "</style>\n",
       "<table border=\"1\" class=\"dataframe\">\n",
       "  <thead>\n",
       "    <tr style=\"text-align: right;\">\n",
       "      <th></th>\n",
       "      <th>times_preg</th>\n",
       "      <th>glucose_concent</th>\n",
       "      <th>blood_press</th>\n",
       "      <th>fold_thick</th>\n",
       "      <th>insulin</th>\n",
       "      <th>bmi</th>\n",
       "      <th>pedigree_func</th>\n",
       "      <th>age</th>\n",
       "      <th>target</th>\n",
       "      <th>missing_bmi</th>\n",
       "      <th>missing_blood_press</th>\n",
       "      <th>missing_insulin</th>\n",
       "    </tr>\n",
       "  </thead>\n",
       "  <tbody>\n",
       "    <tr>\n",
       "      <th>0</th>\n",
       "      <td>6</td>\n",
       "      <td>148</td>\n",
       "      <td>72</td>\n",
       "      <td>35</td>\n",
       "      <td>0</td>\n",
       "      <td>33.6</td>\n",
       "      <td>0.627</td>\n",
       "      <td>50</td>\n",
       "      <td>1</td>\n",
       "      <td>0</td>\n",
       "      <td>0</td>\n",
       "      <td>0</td>\n",
       "    </tr>\n",
       "    <tr>\n",
       "      <th>1</th>\n",
       "      <td>1</td>\n",
       "      <td>85</td>\n",
       "      <td>66</td>\n",
       "      <td>29</td>\n",
       "      <td>0</td>\n",
       "      <td>26.6</td>\n",
       "      <td>0.351</td>\n",
       "      <td>31</td>\n",
       "      <td>0</td>\n",
       "      <td>0</td>\n",
       "      <td>0</td>\n",
       "      <td>0</td>\n",
       "    </tr>\n",
       "    <tr>\n",
       "      <th>2</th>\n",
       "      <td>8</td>\n",
       "      <td>183</td>\n",
       "      <td>64</td>\n",
       "      <td>0</td>\n",
       "      <td>0</td>\n",
       "      <td>23.3</td>\n",
       "      <td>0.672</td>\n",
       "      <td>32</td>\n",
       "      <td>1</td>\n",
       "      <td>0</td>\n",
       "      <td>0</td>\n",
       "      <td>0</td>\n",
       "    </tr>\n",
       "    <tr>\n",
       "      <th>3</th>\n",
       "      <td>1</td>\n",
       "      <td>89</td>\n",
       "      <td>66</td>\n",
       "      <td>23</td>\n",
       "      <td>94</td>\n",
       "      <td>28.1</td>\n",
       "      <td>0.167</td>\n",
       "      <td>21</td>\n",
       "      <td>0</td>\n",
       "      <td>0</td>\n",
       "      <td>0</td>\n",
       "      <td>0</td>\n",
       "    </tr>\n",
       "    <tr>\n",
       "      <th>4</th>\n",
       "      <td>0</td>\n",
       "      <td>137</td>\n",
       "      <td>40</td>\n",
       "      <td>35</td>\n",
       "      <td>168</td>\n",
       "      <td>43.1</td>\n",
       "      <td>2.288</td>\n",
       "      <td>33</td>\n",
       "      <td>1</td>\n",
       "      <td>0</td>\n",
       "      <td>0</td>\n",
       "      <td>0</td>\n",
       "    </tr>\n",
       "  </tbody>\n",
       "</table>\n",
       "</div>"
      ],
      "text/plain": [
       "   times_preg  glucose_concent  blood_press  fold_thick  insulin   bmi  \\\n",
       "0           6              148           72          35        0  33.6   \n",
       "1           1               85           66          29        0  26.6   \n",
       "2           8              183           64           0        0  23.3   \n",
       "3           1               89           66          23       94  28.1   \n",
       "4           0              137           40          35      168  43.1   \n",
       "\n",
       "   pedigree_func  age  target  missing_bmi  missing_blood_press  \\\n",
       "0          0.627   50       1            0                    0   \n",
       "1          0.351   31       0            0                    0   \n",
       "2          0.672   32       1            0                    0   \n",
       "3          0.167   21       0            0                    0   \n",
       "4          2.288   33       1            0                    0   \n",
       "\n",
       "   missing_insulin  \n",
       "0                0  \n",
       "1                0  \n",
       "2                0  \n",
       "3                0  \n",
       "4                0  "
      ]
     },
     "execution_count": 9,
     "metadata": {},
     "output_type": "execute_result"
    }
   ],
   "source": [
    "data.head()"
   ]
  },
  {
   "cell_type": "code",
   "execution_count": 10,
   "metadata": {},
   "outputs": [],
   "source": [
    "# Set missing-indicators to 1 if respective variable == 0\n",
    "data.loc[data.bmi == 0, 'missing_bmi'] = 1\n",
    "\n",
    "data.loc[data.blood_press == 0, 'missing_blood_press'] = 1\n",
    "\n",
    "data.loc[data.insulin == 0, 'missing_insulin'] = 1"
   ]
  },
  {
   "cell_type": "code",
   "execution_count": 11,
   "metadata": {},
   "outputs": [],
   "source": [
    "# Now let's replace zeros with means\n",
    "data.bmi = data.bmi.apply(lambda x: data.bmi.mean() if x == 0 else x)\n",
    "data.blood_press = data.blood_press.apply(lambda x: data.blood_press.mean() if x == 0 else x)\n",
    "data.insulin = data.insulin.apply(lambda x: data.insulin.mean() if x == 0 else x)"
   ]
  },
  {
   "cell_type": "code",
   "execution_count": 12,
   "metadata": {},
   "outputs": [
    {
     "data": {
      "text/html": [
       "<div>\n",
       "<style scoped>\n",
       "    .dataframe tbody tr th:only-of-type {\n",
       "        vertical-align: middle;\n",
       "    }\n",
       "\n",
       "    .dataframe tbody tr th {\n",
       "        vertical-align: top;\n",
       "    }\n",
       "\n",
       "    .dataframe thead th {\n",
       "        text-align: right;\n",
       "    }\n",
       "</style>\n",
       "<table border=\"1\" class=\"dataframe\">\n",
       "  <thead>\n",
       "    <tr style=\"text-align: right;\">\n",
       "      <th></th>\n",
       "      <th>times_preg</th>\n",
       "      <th>glucose_concent</th>\n",
       "      <th>blood_press</th>\n",
       "      <th>fold_thick</th>\n",
       "      <th>insulin</th>\n",
       "      <th>bmi</th>\n",
       "      <th>pedigree_func</th>\n",
       "      <th>age</th>\n",
       "      <th>target</th>\n",
       "      <th>missing_bmi</th>\n",
       "      <th>missing_blood_press</th>\n",
       "      <th>missing_insulin</th>\n",
       "    </tr>\n",
       "  </thead>\n",
       "  <tbody>\n",
       "    <tr>\n",
       "      <th>706</th>\n",
       "      <td>10</td>\n",
       "      <td>115</td>\n",
       "      <td>69.105469</td>\n",
       "      <td>0</td>\n",
       "      <td>79.799479</td>\n",
       "      <td>31.992578</td>\n",
       "      <td>0.261</td>\n",
       "      <td>30</td>\n",
       "      <td>1</td>\n",
       "      <td>1</td>\n",
       "      <td>1</td>\n",
       "      <td>1</td>\n",
       "    </tr>\n",
       "    <tr>\n",
       "      <th>145</th>\n",
       "      <td>0</td>\n",
       "      <td>102</td>\n",
       "      <td>75.000000</td>\n",
       "      <td>23</td>\n",
       "      <td>79.799479</td>\n",
       "      <td>31.992578</td>\n",
       "      <td>0.572</td>\n",
       "      <td>21</td>\n",
       "      <td>0</td>\n",
       "      <td>1</td>\n",
       "      <td>0</td>\n",
       "      <td>1</td>\n",
       "    </tr>\n",
       "    <tr>\n",
       "      <th>81</th>\n",
       "      <td>2</td>\n",
       "      <td>74</td>\n",
       "      <td>69.105469</td>\n",
       "      <td>0</td>\n",
       "      <td>79.799479</td>\n",
       "      <td>31.992578</td>\n",
       "      <td>0.102</td>\n",
       "      <td>22</td>\n",
       "      <td>0</td>\n",
       "      <td>1</td>\n",
       "      <td>1</td>\n",
       "      <td>1</td>\n",
       "    </tr>\n",
       "    <tr>\n",
       "      <th>60</th>\n",
       "      <td>2</td>\n",
       "      <td>84</td>\n",
       "      <td>69.105469</td>\n",
       "      <td>0</td>\n",
       "      <td>79.799479</td>\n",
       "      <td>31.992578</td>\n",
       "      <td>0.304</td>\n",
       "      <td>21</td>\n",
       "      <td>0</td>\n",
       "      <td>1</td>\n",
       "      <td>1</td>\n",
       "      <td>1</td>\n",
       "    </tr>\n",
       "    <tr>\n",
       "      <th>9</th>\n",
       "      <td>8</td>\n",
       "      <td>125</td>\n",
       "      <td>96.000000</td>\n",
       "      <td>0</td>\n",
       "      <td>79.799479</td>\n",
       "      <td>31.992578</td>\n",
       "      <td>0.232</td>\n",
       "      <td>54</td>\n",
       "      <td>1</td>\n",
       "      <td>1</td>\n",
       "      <td>0</td>\n",
       "      <td>1</td>\n",
       "    </tr>\n",
       "  </tbody>\n",
       "</table>\n",
       "</div>"
      ],
      "text/plain": [
       "     times_preg  glucose_concent  blood_press  fold_thick    insulin  \\\n",
       "706          10              115    69.105469           0  79.799479   \n",
       "145           0              102    75.000000          23  79.799479   \n",
       "81            2               74    69.105469           0  79.799479   \n",
       "60            2               84    69.105469           0  79.799479   \n",
       "9             8              125    96.000000           0  79.799479   \n",
       "\n",
       "           bmi  pedigree_func  age  target  missing_bmi  missing_blood_press  \\\n",
       "706  31.992578          0.261   30       1            1                    1   \n",
       "145  31.992578          0.572   21       0            1                    0   \n",
       "81   31.992578          0.102   22       0            1                    1   \n",
       "60   31.992578          0.304   21       0            1                    1   \n",
       "9    31.992578          0.232   54       1            1                    0   \n",
       "\n",
       "     missing_insulin  \n",
       "706                1  \n",
       "145                1  \n",
       "81                 1  \n",
       "60                 1  \n",
       "9                  1  "
      ]
     },
     "execution_count": 12,
     "metadata": {},
     "output_type": "execute_result"
    }
   ],
   "source": [
    "# Sanity check\n",
    "data[data.missing_bmi == 1].sample(5)"
   ]
  },
  {
   "cell_type": "code",
   "execution_count": 13,
   "metadata": {},
   "outputs": [
    {
     "data": {
      "text/html": [
       "<div>\n",
       "<style scoped>\n",
       "    .dataframe tbody tr th:only-of-type {\n",
       "        vertical-align: middle;\n",
       "    }\n",
       "\n",
       "    .dataframe tbody tr th {\n",
       "        vertical-align: top;\n",
       "    }\n",
       "\n",
       "    .dataframe thead th {\n",
       "        text-align: right;\n",
       "    }\n",
       "</style>\n",
       "<table border=\"1\" class=\"dataframe\">\n",
       "  <thead>\n",
       "    <tr style=\"text-align: right;\">\n",
       "      <th></th>\n",
       "      <th>times_preg</th>\n",
       "      <th>glucose_concent</th>\n",
       "      <th>blood_press</th>\n",
       "      <th>fold_thick</th>\n",
       "      <th>insulin</th>\n",
       "      <th>bmi</th>\n",
       "      <th>pedigree_func</th>\n",
       "      <th>age</th>\n",
       "      <th>target</th>\n",
       "      <th>missing_bmi</th>\n",
       "      <th>missing_blood_press</th>\n",
       "      <th>missing_insulin</th>\n",
       "    </tr>\n",
       "  </thead>\n",
       "  <tbody>\n",
       "    <tr>\n",
       "      <th>78</th>\n",
       "      <td>0</td>\n",
       "      <td>131</td>\n",
       "      <td>69.105469</td>\n",
       "      <td>0</td>\n",
       "      <td>79.799479</td>\n",
       "      <td>43.200000</td>\n",
       "      <td>0.270</td>\n",
       "      <td>26</td>\n",
       "      <td>1</td>\n",
       "      <td>0</td>\n",
       "      <td>1</td>\n",
       "      <td>1</td>\n",
       "    </tr>\n",
       "    <tr>\n",
       "      <th>435</th>\n",
       "      <td>0</td>\n",
       "      <td>141</td>\n",
       "      <td>69.105469</td>\n",
       "      <td>0</td>\n",
       "      <td>79.799479</td>\n",
       "      <td>42.400000</td>\n",
       "      <td>0.205</td>\n",
       "      <td>29</td>\n",
       "      <td>1</td>\n",
       "      <td>0</td>\n",
       "      <td>1</td>\n",
       "      <td>1</td>\n",
       "    </tr>\n",
       "    <tr>\n",
       "      <th>601</th>\n",
       "      <td>6</td>\n",
       "      <td>96</td>\n",
       "      <td>69.105469</td>\n",
       "      <td>0</td>\n",
       "      <td>79.799479</td>\n",
       "      <td>23.700000</td>\n",
       "      <td>0.190</td>\n",
       "      <td>28</td>\n",
       "      <td>0</td>\n",
       "      <td>0</td>\n",
       "      <td>1</td>\n",
       "      <td>1</td>\n",
       "    </tr>\n",
       "    <tr>\n",
       "      <th>468</th>\n",
       "      <td>8</td>\n",
       "      <td>120</td>\n",
       "      <td>69.105469</td>\n",
       "      <td>0</td>\n",
       "      <td>79.799479</td>\n",
       "      <td>30.000000</td>\n",
       "      <td>0.183</td>\n",
       "      <td>38</td>\n",
       "      <td>1</td>\n",
       "      <td>0</td>\n",
       "      <td>1</td>\n",
       "      <td>1</td>\n",
       "    </tr>\n",
       "    <tr>\n",
       "      <th>706</th>\n",
       "      <td>10</td>\n",
       "      <td>115</td>\n",
       "      <td>69.105469</td>\n",
       "      <td>0</td>\n",
       "      <td>79.799479</td>\n",
       "      <td>31.992578</td>\n",
       "      <td>0.261</td>\n",
       "      <td>30</td>\n",
       "      <td>1</td>\n",
       "      <td>1</td>\n",
       "      <td>1</td>\n",
       "      <td>1</td>\n",
       "    </tr>\n",
       "  </tbody>\n",
       "</table>\n",
       "</div>"
      ],
      "text/plain": [
       "     times_preg  glucose_concent  blood_press  fold_thick    insulin  \\\n",
       "78            0              131    69.105469           0  79.799479   \n",
       "435           0              141    69.105469           0  79.799479   \n",
       "601           6               96    69.105469           0  79.799479   \n",
       "468           8              120    69.105469           0  79.799479   \n",
       "706          10              115    69.105469           0  79.799479   \n",
       "\n",
       "           bmi  pedigree_func  age  target  missing_bmi  missing_blood_press  \\\n",
       "78   43.200000          0.270   26       1            0                    1   \n",
       "435  42.400000          0.205   29       1            0                    1   \n",
       "601  23.700000          0.190   28       0            0                    1   \n",
       "468  30.000000          0.183   38       1            0                    1   \n",
       "706  31.992578          0.261   30       1            1                    1   \n",
       "\n",
       "     missing_insulin  \n",
       "78                 1  \n",
       "435                1  \n",
       "601                1  \n",
       "468                1  \n",
       "706                1  "
      ]
     },
     "execution_count": 13,
     "metadata": {},
     "output_type": "execute_result"
    }
   ],
   "source": [
    "data[data.missing_blood_press == 1].sample(5)"
   ]
  },
  {
   "cell_type": "code",
   "execution_count": 14,
   "metadata": {},
   "outputs": [
    {
     "data": {
      "text/html": [
       "<div>\n",
       "<style scoped>\n",
       "    .dataframe tbody tr th:only-of-type {\n",
       "        vertical-align: middle;\n",
       "    }\n",
       "\n",
       "    .dataframe tbody tr th {\n",
       "        vertical-align: top;\n",
       "    }\n",
       "\n",
       "    .dataframe thead th {\n",
       "        text-align: right;\n",
       "    }\n",
       "</style>\n",
       "<table border=\"1\" class=\"dataframe\">\n",
       "  <thead>\n",
       "    <tr style=\"text-align: right;\">\n",
       "      <th></th>\n",
       "      <th>times_preg</th>\n",
       "      <th>glucose_concent</th>\n",
       "      <th>blood_press</th>\n",
       "      <th>fold_thick</th>\n",
       "      <th>insulin</th>\n",
       "      <th>bmi</th>\n",
       "      <th>pedigree_func</th>\n",
       "      <th>age</th>\n",
       "      <th>target</th>\n",
       "      <th>missing_bmi</th>\n",
       "      <th>missing_blood_press</th>\n",
       "      <th>missing_insulin</th>\n",
       "    </tr>\n",
       "  </thead>\n",
       "  <tbody>\n",
       "    <tr>\n",
       "      <th>583</th>\n",
       "      <td>8</td>\n",
       "      <td>100</td>\n",
       "      <td>76.000000</td>\n",
       "      <td>0</td>\n",
       "      <td>79.799479</td>\n",
       "      <td>38.7</td>\n",
       "      <td>0.190</td>\n",
       "      <td>42</td>\n",
       "      <td>0</td>\n",
       "      <td>0</td>\n",
       "      <td>0</td>\n",
       "      <td>1</td>\n",
       "    </tr>\n",
       "    <tr>\n",
       "      <th>557</th>\n",
       "      <td>8</td>\n",
       "      <td>110</td>\n",
       "      <td>76.000000</td>\n",
       "      <td>0</td>\n",
       "      <td>79.799479</td>\n",
       "      <td>27.8</td>\n",
       "      <td>0.237</td>\n",
       "      <td>58</td>\n",
       "      <td>0</td>\n",
       "      <td>0</td>\n",
       "      <td>0</td>\n",
       "      <td>1</td>\n",
       "    </tr>\n",
       "    <tr>\n",
       "      <th>430</th>\n",
       "      <td>2</td>\n",
       "      <td>99</td>\n",
       "      <td>69.105469</td>\n",
       "      <td>0</td>\n",
       "      <td>79.799479</td>\n",
       "      <td>22.2</td>\n",
       "      <td>0.108</td>\n",
       "      <td>23</td>\n",
       "      <td>0</td>\n",
       "      <td>0</td>\n",
       "      <td>1</td>\n",
       "      <td>1</td>\n",
       "    </tr>\n",
       "    <tr>\n",
       "      <th>691</th>\n",
       "      <td>13</td>\n",
       "      <td>158</td>\n",
       "      <td>114.000000</td>\n",
       "      <td>0</td>\n",
       "      <td>79.799479</td>\n",
       "      <td>42.3</td>\n",
       "      <td>0.257</td>\n",
       "      <td>44</td>\n",
       "      <td>1</td>\n",
       "      <td>0</td>\n",
       "      <td>0</td>\n",
       "      <td>1</td>\n",
       "    </tr>\n",
       "    <tr>\n",
       "      <th>202</th>\n",
       "      <td>0</td>\n",
       "      <td>108</td>\n",
       "      <td>68.000000</td>\n",
       "      <td>20</td>\n",
       "      <td>79.799479</td>\n",
       "      <td>27.3</td>\n",
       "      <td>0.787</td>\n",
       "      <td>32</td>\n",
       "      <td>0</td>\n",
       "      <td>0</td>\n",
       "      <td>0</td>\n",
       "      <td>1</td>\n",
       "    </tr>\n",
       "  </tbody>\n",
       "</table>\n",
       "</div>"
      ],
      "text/plain": [
       "     times_preg  glucose_concent  blood_press  fold_thick    insulin   bmi  \\\n",
       "583           8              100    76.000000           0  79.799479  38.7   \n",
       "557           8              110    76.000000           0  79.799479  27.8   \n",
       "430           2               99    69.105469           0  79.799479  22.2   \n",
       "691          13              158   114.000000           0  79.799479  42.3   \n",
       "202           0              108    68.000000          20  79.799479  27.3   \n",
       "\n",
       "     pedigree_func  age  target  missing_bmi  missing_blood_press  \\\n",
       "583          0.190   42       0            0                    0   \n",
       "557          0.237   58       0            0                    0   \n",
       "430          0.108   23       0            0                    1   \n",
       "691          0.257   44       1            0                    0   \n",
       "202          0.787   32       0            0                    0   \n",
       "\n",
       "     missing_insulin  \n",
       "583                1  \n",
       "557                1  \n",
       "430                1  \n",
       "691                1  \n",
       "202                1  "
      ]
     },
     "execution_count": 14,
     "metadata": {},
     "output_type": "execute_result"
    }
   ],
   "source": [
    "data[data.missing_insulin == 1].sample(5)"
   ]
  },
  {
   "cell_type": "markdown",
   "metadata": {},
   "source": [
    "* ## Prepare the data for training "
   ]
  },
  {
   "cell_type": "code",
   "execution_count": 15,
   "metadata": {},
   "outputs": [],
   "source": [
    "# Define X and y\n",
    "X = data.drop('target', axis = 1)\n",
    "y = data.target"
   ]
  },
  {
   "cell_type": "code",
   "execution_count": 16,
   "metadata": {},
   "outputs": [
    {
     "data": {
      "text/html": [
       "<div>\n",
       "<style scoped>\n",
       "    .dataframe tbody tr th:only-of-type {\n",
       "        vertical-align: middle;\n",
       "    }\n",
       "\n",
       "    .dataframe tbody tr th {\n",
       "        vertical-align: top;\n",
       "    }\n",
       "\n",
       "    .dataframe thead th {\n",
       "        text-align: right;\n",
       "    }\n",
       "</style>\n",
       "<table border=\"1\" class=\"dataframe\">\n",
       "  <thead>\n",
       "    <tr style=\"text-align: right;\">\n",
       "      <th></th>\n",
       "      <th>times_preg</th>\n",
       "      <th>glucose_concent</th>\n",
       "      <th>blood_press</th>\n",
       "      <th>fold_thick</th>\n",
       "      <th>insulin</th>\n",
       "      <th>bmi</th>\n",
       "      <th>pedigree_func</th>\n",
       "      <th>age</th>\n",
       "      <th>missing_bmi</th>\n",
       "      <th>missing_blood_press</th>\n",
       "      <th>missing_insulin</th>\n",
       "    </tr>\n",
       "  </thead>\n",
       "  <tbody>\n",
       "    <tr>\n",
       "      <th>412</th>\n",
       "      <td>1</td>\n",
       "      <td>143</td>\n",
       "      <td>84.0</td>\n",
       "      <td>23</td>\n",
       "      <td>310.000000</td>\n",
       "      <td>42.4</td>\n",
       "      <td>1.076</td>\n",
       "      <td>22</td>\n",
       "      <td>0</td>\n",
       "      <td>0</td>\n",
       "      <td>0</td>\n",
       "    </tr>\n",
       "    <tr>\n",
       "      <th>111</th>\n",
       "      <td>8</td>\n",
       "      <td>155</td>\n",
       "      <td>62.0</td>\n",
       "      <td>26</td>\n",
       "      <td>495.000000</td>\n",
       "      <td>34.0</td>\n",
       "      <td>0.543</td>\n",
       "      <td>46</td>\n",
       "      <td>0</td>\n",
       "      <td>0</td>\n",
       "      <td>0</td>\n",
       "    </tr>\n",
       "    <tr>\n",
       "      <th>580</th>\n",
       "      <td>0</td>\n",
       "      <td>151</td>\n",
       "      <td>90.0</td>\n",
       "      <td>46</td>\n",
       "      <td>79.799479</td>\n",
       "      <td>42.1</td>\n",
       "      <td>0.371</td>\n",
       "      <td>21</td>\n",
       "      <td>0</td>\n",
       "      <td>0</td>\n",
       "      <td>1</td>\n",
       "    </tr>\n",
       "    <tr>\n",
       "      <th>743</th>\n",
       "      <td>9</td>\n",
       "      <td>140</td>\n",
       "      <td>94.0</td>\n",
       "      <td>0</td>\n",
       "      <td>79.799479</td>\n",
       "      <td>32.7</td>\n",
       "      <td>0.734</td>\n",
       "      <td>45</td>\n",
       "      <td>0</td>\n",
       "      <td>0</td>\n",
       "      <td>1</td>\n",
       "    </tr>\n",
       "    <tr>\n",
       "      <th>478</th>\n",
       "      <td>8</td>\n",
       "      <td>126</td>\n",
       "      <td>74.0</td>\n",
       "      <td>38</td>\n",
       "      <td>75.000000</td>\n",
       "      <td>25.9</td>\n",
       "      <td>0.162</td>\n",
       "      <td>39</td>\n",
       "      <td>0</td>\n",
       "      <td>0</td>\n",
       "      <td>0</td>\n",
       "    </tr>\n",
       "  </tbody>\n",
       "</table>\n",
       "</div>"
      ],
      "text/plain": [
       "     times_preg  glucose_concent  blood_press  fold_thick     insulin   bmi  \\\n",
       "412           1              143         84.0          23  310.000000  42.4   \n",
       "111           8              155         62.0          26  495.000000  34.0   \n",
       "580           0              151         90.0          46   79.799479  42.1   \n",
       "743           9              140         94.0           0   79.799479  32.7   \n",
       "478           8              126         74.0          38   75.000000  25.9   \n",
       "\n",
       "     pedigree_func  age  missing_bmi  missing_blood_press  missing_insulin  \n",
       "412          1.076   22            0                    0                0  \n",
       "111          0.543   46            0                    0                0  \n",
       "580          0.371   21            0                    0                1  \n",
       "743          0.734   45            0                    0                1  \n",
       "478          0.162   39            0                    0                0  "
      ]
     },
     "execution_count": 16,
     "metadata": {},
     "output_type": "execute_result"
    }
   ],
   "source": [
    "X.sample(5)"
   ]
  },
  {
   "cell_type": "code",
   "execution_count": 17,
   "metadata": {},
   "outputs": [
    {
     "data": {
      "text/plain": [
       "540    1\n",
       "760    0\n",
       "72     1\n",
       "444    1\n",
       "507    0\n",
       "Name: target, dtype: int64"
      ]
     },
     "execution_count": 17,
     "metadata": {},
     "output_type": "execute_result"
    }
   ],
   "source": [
    "y.sample(5)"
   ]
  },
  {
   "cell_type": "code",
   "execution_count": 18,
   "metadata": {},
   "outputs": [
    {
     "data": {
      "text/plain": [
       "(768, 11)"
      ]
     },
     "execution_count": 18,
     "metadata": {},
     "output_type": "execute_result"
    }
   ],
   "source": [
    "X.shape"
   ]
  },
  {
   "cell_type": "code",
   "execution_count": 19,
   "metadata": {},
   "outputs": [],
   "source": [
    "# Convert to np.array\n",
    "X = X.values\n",
    "y = y.values"
   ]
  },
  {
   "cell_type": "code",
   "execution_count": 20,
   "metadata": {},
   "outputs": [],
   "source": [
    "# Split train and test\n",
    "X_train, X_test, y_train, y_test = train_test_split(X, y, test_size = .2)"
   ]
  },
  {
   "cell_type": "code",
   "execution_count": 21,
   "metadata": {},
   "outputs": [
    {
     "data": {
      "text/plain": [
       "((614, 11), (614,))"
      ]
     },
     "execution_count": 21,
     "metadata": {},
     "output_type": "execute_result"
    }
   ],
   "source": [
    "X_train.shape, y_train.shape"
   ]
  },
  {
   "cell_type": "code",
   "execution_count": 22,
   "metadata": {},
   "outputs": [],
   "source": [
    "# Convert to tensors\n",
    "X_train, X_test = Variable(torch.Tensor(X_train)), Variable(torch.Tensor(X_test))"
   ]
  },
  {
   "cell_type": "code",
   "execution_count": 23,
   "metadata": {},
   "outputs": [],
   "source": [
    "y_train, y_test = Variable(torch.Tensor(y_train)), Variable(torch.Tensor(y_test))"
   ]
  },
  {
   "cell_type": "code",
   "execution_count": 24,
   "metadata": {},
   "outputs": [],
   "source": [
    "# Reshape target to match input\n",
    "y_train = y_train.view(y_train.shape[0], 1)\n",
    "\n",
    "y_test = y_test.view(y_test.shape[0], 1)"
   ]
  },
  {
   "cell_type": "markdown",
   "metadata": {},
   "source": [
    "* ## Build the model"
   ]
  },
  {
   "cell_type": "code",
   "execution_count": 90,
   "metadata": {},
   "outputs": [],
   "source": [
    "# Define model class\n",
    "\n",
    "class Model(torch.nn.Module):\n",
    "    \n",
    "    def __init__(self):\n",
    "        \n",
    "        super(Model, self).__init__()\n",
    "        self.layer_1 = torch.nn.Linear(11, 9)\n",
    "        self.layer_2 = torch.nn.Linear( 9, 7)\n",
    "        self.layer_3 = torch.nn.Linear( 7, 3)\n",
    "        self.layer_4 = torch.nn.Linear( 3, 1)\n",
    "        \n",
    "        self.relu    = torch.nn.ReLU()\n",
    "        self.sigmoid = torch.nn.Sigmoid()\n",
    "        \n",
    "        \n",
    "    def forward(self, x):\n",
    "        \n",
    "        out_1 = self.relu(self.layer_1(x))\n",
    "        out_2 = self.relu(self.layer_2(out_1))\n",
    "        out_3 = self.relu(self.layer_3(out_2))\n",
    "        out_4 = self.sigmoid(self.layer_4(out_3))\n",
    "        \n",
    "        return out_4"
   ]
  },
  {
   "cell_type": "code",
   "execution_count": 91,
   "metadata": {},
   "outputs": [],
   "source": [
    "# Insatntiate the model\n",
    "multilayer = Model()"
   ]
  },
  {
   "cell_type": "code",
   "execution_count": 92,
   "metadata": {},
   "outputs": [],
   "source": [
    "# Define loss and optimizer\n",
    "loss_func = torch.nn.BCELoss(reduction = 'mean')\n",
    "optimizer = torch.optim.Adam(multilayer.parameters(), lr = .0003)"
   ]
  },
  {
   "cell_type": "markdown",
   "metadata": {},
   "source": [
    "* ## Train and evaluate"
   ]
  },
  {
   "cell_type": "code",
   "execution_count": 93,
   "metadata": {},
   "outputs": [],
   "source": [
    "# Create a list to catch loss history\n",
    "history = []"
   ]
  },
  {
   "cell_type": "code",
   "execution_count": 94,
   "metadata": {},
   "outputs": [],
   "source": [
    "# Define training function\n",
    "def train_it(x, y, model, n_epochs = 500):\n",
    "    \n",
    "    for epoch in range(n_epochs):\n",
    "        y_pred = model(x)\n",
    "\n",
    "        loss = loss_func(y_pred, y)\n",
    "        \n",
    "        history.append(loss)\n",
    "        \n",
    "        if epoch % 1000 == 0:\n",
    "            print(f\"Epoch: {epoch:08.2f} | Loss: {loss:10.6f}\")\n",
    "\n",
    "        # Reset gradients, perform backprop, perform optimizer step\n",
    "        optimizer.zero_grad()\n",
    "        loss.backward()\n",
    "        optimizer.step()"
   ]
  },
  {
   "cell_type": "code",
   "execution_count": 95,
   "metadata": {},
   "outputs": [
    {
     "name": "stdout",
     "output_type": "stream",
     "text": [
      "Epoch: 00000.00 | Loss:   0.652188\n",
      "Epoch: 01000.00 | Loss:   0.479119\n",
      "Epoch: 02000.00 | Loss:   0.422462\n",
      "Epoch: 03000.00 | Loss:   0.388652\n",
      "Epoch: 04000.00 | Loss:   0.371217\n",
      "Epoch: 05000.00 | Loss:   0.357976\n",
      "Epoch: 06000.00 | Loss:   0.350902\n",
      "Epoch: 07000.00 | Loss:   0.339564\n",
      "Epoch: 08000.00 | Loss:   0.328578\n",
      "Epoch: 09000.00 | Loss:   0.323321\n",
      "Epoch: 10000.00 | Loss:   0.319282\n",
      "Epoch: 11000.00 | Loss:   0.317012\n",
      "Epoch: 12000.00 | Loss:   0.314952\n",
      "Epoch: 13000.00 | Loss:   0.313061\n",
      "Epoch: 14000.00 | Loss:   0.310869\n",
      "Epoch: 15000.00 | Loss:   0.305602\n",
      "Epoch: 16000.00 | Loss:   0.302308\n",
      "Epoch: 17000.00 | Loss:   0.299581\n",
      "Epoch: 18000.00 | Loss:   0.294586\n",
      "Epoch: 19000.00 | Loss:   0.292193\n",
      "Epoch: 20000.00 | Loss:   0.290714\n",
      "Epoch: 21000.00 | Loss:   0.288857\n",
      "Epoch: 22000.00 | Loss:   0.287498\n",
      "Epoch: 23000.00 | Loss:   0.286119\n",
      "Epoch: 24000.00 | Loss:   0.285021\n",
      "Epoch: 25000.00 | Loss:   0.284142\n",
      "Epoch: 26000.00 | Loss:   0.283410\n",
      "Epoch: 27000.00 | Loss:   0.282543\n",
      "Epoch: 28000.00 | Loss:   0.282370\n",
      "Epoch: 29000.00 | Loss:   0.281295\n",
      "Epoch: 30000.00 | Loss:   0.279336\n",
      "Epoch: 31000.00 | Loss:   0.278630\n",
      "Epoch: 32000.00 | Loss:   0.277474\n",
      "Epoch: 33000.00 | Loss:   0.276316\n",
      "Epoch: 34000.00 | Loss:   0.275482\n",
      "Epoch: 35000.00 | Loss:   0.274918\n",
      "Epoch: 36000.00 | Loss:   0.274272\n",
      "Epoch: 37000.00 | Loss:   0.273778\n",
      "Epoch: 38000.00 | Loss:   0.273374\n",
      "Epoch: 39000.00 | Loss:   0.272911\n",
      "Epoch: 40000.00 | Loss:   0.272663\n"
     ]
    }
   ],
   "source": [
    "# Train the model \n",
    "train_it(X_train, y_train, multilayer, 40001)"
   ]
  },
  {
   "cell_type": "code",
   "execution_count": 100,
   "metadata": {},
   "outputs": [],
   "source": [
    "# Predict\n",
    "y_pred = multilayer(X_test)"
   ]
  },
  {
   "cell_type": "code",
   "execution_count": 101,
   "metadata": {},
   "outputs": [
    {
     "data": {
      "text/plain": [
       "tensor(1.6662, grad_fn=<BinaryCrossEntropyBackward>)"
      ]
     },
     "execution_count": 101,
     "metadata": {},
     "output_type": "execute_result"
    }
   ],
   "source": [
    "# Compute loss of test\n",
    "loss_func(y_pred, y_test)"
   ]
  },
  {
   "cell_type": "code",
   "execution_count": 102,
   "metadata": {},
   "outputs": [
    {
     "data": {
      "text/plain": [
       "array([0.76623377])"
      ]
     },
     "execution_count": 102,
     "metadata": {},
     "output_type": "execute_result"
    }
   ],
   "source": [
    "# Examine predictions - accuracy\n",
    "sum((y_pred > .5).numpy() == y_test.numpy()) / len(y_test)"
   ]
  },
  {
   "cell_type": "code",
   "execution_count": 103,
   "metadata": {},
   "outputs": [
    {
     "data": {
      "image/png": "[encoded data removed]",
      "text/plain": [
       "<Figure size 432x288 with 1 Axes>"
      ]
     },
     "metadata": {},
     "output_type": "display_data"
    }
   ],
   "source": [
    "# Plot loss\n",
    "plt.plot(history, alpha=.5)\n",
    "plt.xlabel('Epoch')\n",
    "plt.ylabel('Loss')\n",
    "plt.title('Training loss vs # of epoch')\n",
    "plt.show()"
   ]
  }
 ],
 "metadata": {
  "kernelspec": {
   "display_name": "Python 3",
   "language": "python",
   "name": "python3"
  },
  "language_info": {
   "codemirror_mode": {
    "name": "ipython",
    "version": 3
   },
   "file_extension": ".py",
   "mimetype": "text/x-python",
   "name": "python",
   "nbconvert_exporter": "python",
   "pygments_lexer": "ipython3",
   "version": "3.6.5"
  }
 },
 "nbformat": 4,
 "nbformat_minor": 2
}
